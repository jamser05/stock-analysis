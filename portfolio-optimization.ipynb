{
 "cells": [
  {
   "cell_type": "code",
   "execution_count": 57,
   "id": "464e8ee8-4d7b-460d-82d5-edf4bb37b67c",
   "metadata": {},
   "outputs": [],
   "source": [
    "import yfinance as yf\n",
    "import pandas as pd\n",
    "from pandas_datareader import data as web\n",
    "import numpy as np\n",
    "from datetime import datetime\n",
    "import matplotlib.pyplot as plt\n",
    "\n",
    "plt.style.use('fivethirtyeight')"
   ]
  },
  {
   "cell_type": "code",
   "execution_count": 58,
   "id": "433f4d60-88ed-48c2-adb9-527b2f227b41",
   "metadata": {},
   "outputs": [],
   "source": [
    "# GEt the stock symbols/tickers in the portfolio\n",
    "# FAANG\n",
    "\n",
    "assets = ['META', 'AMZN', 'AAPL', 'NFLX', 'GOOG']"
   ]
  },
  {
   "cell_type": "code",
   "execution_count": 59,
   "id": "5ca0d3d8-b143-4b80-ac59-0a3bf399e037",
   "metadata": {},
   "outputs": [],
   "source": [
    "# Assign weights to the stocks.\n",
    "\n",
    "weights = np.array([0.2, 0.2, 0.2, 0.2, 0.2])"
   ]
  },
  {
   "cell_type": "code",
   "execution_count": 60,
   "id": "53ee6e62-533b-4c63-8117-381be04a5c30",
   "metadata": {},
   "outputs": [],
   "source": [
    "# Get the stock/portfolio starting date\n",
    "stockStartDate = '2013-01-01'"
   ]
  },
  {
   "cell_type": "code",
   "execution_count": 61,
   "id": "7fa21eeb-6fc9-4b0d-857a-6ce68ef32986",
   "metadata": {},
   "outputs": [
    {
     "data": {
      "text/plain": [
       "'2024-08-08'"
      ]
     },
     "execution_count": 61,
     "metadata": {},
     "output_type": "execute_result"
    }
   ],
   "source": [
    "# Get the stocks ending date (today)\n",
    "today = datetime.today().strftime('%Y-%m-%d')\n",
    "today"
   ]
  },
  {
   "cell_type": "code",
   "execution_count": 69,
   "id": "84c7fe6e-645f-4481-8de9-58005e1648f1",
   "metadata": {},
   "outputs": [
    {
     "name": "stderr",
     "output_type": "stream",
     "text": [
      "[*********************100%%**********************]  1 of 1 completed\n",
      "[*********************100%%**********************]  1 of 1 completed\n",
      "[*********************100%%**********************]  1 of 1 completed\n",
      "[*********************100%%**********************]  1 of 1 completed\n",
      "[*********************100%%**********************]  1 of 1 completed\n"
     ]
    }
   ],
   "source": [
    "# Create a df to store the adjusted close price of the stocks\n",
    "\n",
    "df = pd.DataFrame()\n",
    "\n",
    "for stock in assets:\n",
    "    df[stock] = yf.download(stock, stockStartDate, today)['Adj Close']"
   ]
  },
  {
   "cell_type": "code",
   "execution_count": 70,
   "id": "a2953bc9-901e-4841-9ed8-2096fd3c2e07",
   "metadata": {},
   "outputs": [
    {
     "data": {
      "text/html": [
       "<div>\n",
       "<style scoped>\n",
       "    .dataframe tbody tr th:only-of-type {\n",
       "        vertical-align: middle;\n",
       "    }\n",
       "\n",
       "    .dataframe tbody tr th {\n",
       "        vertical-align: top;\n",
       "    }\n",
       "\n",
       "    .dataframe thead th {\n",
       "        text-align: right;\n",
       "    }\n",
       "</style>\n",
       "<table border=\"1\" class=\"dataframe\">\n",
       "  <thead>\n",
       "    <tr style=\"text-align: right;\">\n",
       "      <th></th>\n",
       "      <th>META</th>\n",
       "      <th>AMZN</th>\n",
       "      <th>AAPL</th>\n",
       "      <th>NFLX</th>\n",
       "      <th>GOOG</th>\n",
       "    </tr>\n",
       "    <tr>\n",
       "      <th>Date</th>\n",
       "      <th></th>\n",
       "      <th></th>\n",
       "      <th></th>\n",
       "      <th></th>\n",
       "      <th></th>\n",
       "    </tr>\n",
       "  </thead>\n",
       "  <tbody>\n",
       "    <tr>\n",
       "      <th>2013-01-02</th>\n",
       "      <td>27.942581</td>\n",
       "      <td>12.865500</td>\n",
       "      <td>16.725035</td>\n",
       "      <td>13.144286</td>\n",
       "      <td>17.993254</td>\n",
       "    </tr>\n",
       "    <tr>\n",
       "      <th>2013-01-03</th>\n",
       "      <td>27.713053</td>\n",
       "      <td>12.924000</td>\n",
       "      <td>16.513929</td>\n",
       "      <td>13.798571</td>\n",
       "      <td>18.003704</td>\n",
       "    </tr>\n",
       "    <tr>\n",
       "      <th>2013-01-04</th>\n",
       "      <td>28.701021</td>\n",
       "      <td>12.957500</td>\n",
       "      <td>16.053940</td>\n",
       "      <td>13.711429</td>\n",
       "      <td>18.359463</td>\n",
       "    </tr>\n",
       "    <tr>\n",
       "      <th>2013-01-07</th>\n",
       "      <td>29.359669</td>\n",
       "      <td>13.423000</td>\n",
       "      <td>15.959507</td>\n",
       "      <td>14.171429</td>\n",
       "      <td>18.279356</td>\n",
       "    </tr>\n",
       "    <tr>\n",
       "      <th>2013-01-08</th>\n",
       "      <td>29.000406</td>\n",
       "      <td>13.319000</td>\n",
       "      <td>16.002459</td>\n",
       "      <td>13.880000</td>\n",
       "      <td>18.243282</td>\n",
       "    </tr>\n",
       "    <tr>\n",
       "      <th>...</th>\n",
       "      <td>...</td>\n",
       "      <td>...</td>\n",
       "      <td>...</td>\n",
       "      <td>...</td>\n",
       "      <td>...</td>\n",
       "    </tr>\n",
       "    <tr>\n",
       "      <th>2024-08-01</th>\n",
       "      <td>497.739990</td>\n",
       "      <td>184.070007</td>\n",
       "      <td>218.360001</td>\n",
       "      <td>624.849976</td>\n",
       "      <td>172.449997</td>\n",
       "    </tr>\n",
       "    <tr>\n",
       "      <th>2024-08-02</th>\n",
       "      <td>488.140015</td>\n",
       "      <td>167.899994</td>\n",
       "      <td>219.860001</td>\n",
       "      <td>613.640015</td>\n",
       "      <td>168.399994</td>\n",
       "    </tr>\n",
       "    <tr>\n",
       "      <th>2024-08-05</th>\n",
       "      <td>475.730011</td>\n",
       "      <td>161.020004</td>\n",
       "      <td>209.270004</td>\n",
       "      <td>598.549988</td>\n",
       "      <td>160.639999</td>\n",
       "    </tr>\n",
       "    <tr>\n",
       "      <th>2024-08-06</th>\n",
       "      <td>494.089996</td>\n",
       "      <td>161.929993</td>\n",
       "      <td>207.229996</td>\n",
       "      <td>609.570007</td>\n",
       "      <td>160.539993</td>\n",
       "    </tr>\n",
       "    <tr>\n",
       "      <th>2024-08-07</th>\n",
       "      <td>488.920013</td>\n",
       "      <td>162.770004</td>\n",
       "      <td>209.820007</td>\n",
       "      <td>611.479980</td>\n",
       "      <td>160.750000</td>\n",
       "    </tr>\n",
       "  </tbody>\n",
       "</table>\n",
       "<p>2919 rows × 5 columns</p>\n",
       "</div>"
      ],
      "text/plain": [
       "                  META        AMZN        AAPL        NFLX        GOOG\n",
       "Date                                                                  \n",
       "2013-01-02   27.942581   12.865500   16.725035   13.144286   17.993254\n",
       "2013-01-03   27.713053   12.924000   16.513929   13.798571   18.003704\n",
       "2013-01-04   28.701021   12.957500   16.053940   13.711429   18.359463\n",
       "2013-01-07   29.359669   13.423000   15.959507   14.171429   18.279356\n",
       "2013-01-08   29.000406   13.319000   16.002459   13.880000   18.243282\n",
       "...                ...         ...         ...         ...         ...\n",
       "2024-08-01  497.739990  184.070007  218.360001  624.849976  172.449997\n",
       "2024-08-02  488.140015  167.899994  219.860001  613.640015  168.399994\n",
       "2024-08-05  475.730011  161.020004  209.270004  598.549988  160.639999\n",
       "2024-08-06  494.089996  161.929993  207.229996  609.570007  160.539993\n",
       "2024-08-07  488.920013  162.770004  209.820007  611.479980  160.750000\n",
       "\n",
       "[2919 rows x 5 columns]"
      ]
     },
     "execution_count": 70,
     "metadata": {},
     "output_type": "execute_result"
    }
   ],
   "source": [
    "df"
   ]
  },
  {
   "cell_type": "code",
   "execution_count": 71,
   "id": "2e9cad60-736e-4f4d-8611-adf3181780b0",
   "metadata": {},
   "outputs": [
    {
     "data": {
      "image/png": "[encoded data removed]",
      "text/plain": [
       "<Figure size 800x800 with 1 Axes>"
      ]
     },
     "metadata": {},
     "output_type": "display_data"
    }
   ],
   "source": [
    "fig, ax = plt.subplots(figsize=(8,8))\n",
    "\n",
    "title = 'Portfolio Adj. Close Price History'\n",
    "\n",
    "my_stocks = df\n",
    "\n",
    "for c in my_stocks.columns.values:\n",
    "    ax.plot(my_stocks[c], label=c)\n",
    "\n",
    "ax.set_title(title, fontsize=24)\n",
    "ax.set_xlabel('Date', fontsize=18)\n",
    "fig.autofmt_xdate()\n",
    "ax.set_ylabel('Adj. Price USD ($)', fontsize=18)\n",
    "plt.legend(my_stocks.columns.values, loc='upper left')\n",
    "plt.grid(True)\n",
    "plt.show()"
   ]
  },
  {
   "cell_type": "code",
   "execution_count": 72,
   "id": "cbdcc176-bc1a-4ed2-8fb8-8b610ac9303e",
   "metadata": {},
   "outputs": [
    {
     "data": {
      "text/html": [
       "<div>\n",
       "<style scoped>\n",
       "    .dataframe tbody tr th:only-of-type {\n",
       "        vertical-align: middle;\n",
       "    }\n",
       "\n",
       "    .dataframe tbody tr th {\n",
       "        vertical-align: top;\n",
       "    }\n",
       "\n",
       "    .dataframe thead th {\n",
       "        text-align: right;\n",
       "    }\n",
       "</style>\n",
       "<table border=\"1\" class=\"dataframe\">\n",
       "  <thead>\n",
       "    <tr style=\"text-align: right;\">\n",
       "      <th></th>\n",
       "      <th>META</th>\n",
       "      <th>AMZN</th>\n",
       "      <th>AAPL</th>\n",
       "      <th>NFLX</th>\n",
       "      <th>GOOG</th>\n",
       "    </tr>\n",
       "    <tr>\n",
       "      <th>Date</th>\n",
       "      <th></th>\n",
       "      <th></th>\n",
       "      <th></th>\n",
       "      <th></th>\n",
       "      <th></th>\n",
       "    </tr>\n",
       "  </thead>\n",
       "  <tbody>\n",
       "    <tr>\n",
       "      <th>2013-01-02</th>\n",
       "      <td>NaN</td>\n",
       "      <td>NaN</td>\n",
       "      <td>NaN</td>\n",
       "      <td>NaN</td>\n",
       "      <td>NaN</td>\n",
       "    </tr>\n",
       "    <tr>\n",
       "      <th>2013-01-03</th>\n",
       "      <td>-0.008214</td>\n",
       "      <td>0.004547</td>\n",
       "      <td>-0.012622</td>\n",
       "      <td>0.049777</td>\n",
       "      <td>0.000581</td>\n",
       "    </tr>\n",
       "    <tr>\n",
       "      <th>2013-01-04</th>\n",
       "      <td>0.035650</td>\n",
       "      <td>0.002592</td>\n",
       "      <td>-0.027855</td>\n",
       "      <td>-0.006315</td>\n",
       "      <td>0.019760</td>\n",
       "    </tr>\n",
       "    <tr>\n",
       "      <th>2013-01-07</th>\n",
       "      <td>0.022949</td>\n",
       "      <td>0.035925</td>\n",
       "      <td>-0.005882</td>\n",
       "      <td>0.033549</td>\n",
       "      <td>-0.004363</td>\n",
       "    </tr>\n",
       "    <tr>\n",
       "      <th>2013-01-08</th>\n",
       "      <td>-0.012237</td>\n",
       "      <td>-0.007748</td>\n",
       "      <td>0.002691</td>\n",
       "      <td>-0.020565</td>\n",
       "      <td>-0.001973</td>\n",
       "    </tr>\n",
       "    <tr>\n",
       "      <th>...</th>\n",
       "      <td>...</td>\n",
       "      <td>...</td>\n",
       "      <td>...</td>\n",
       "      <td>...</td>\n",
       "      <td>...</td>\n",
       "    </tr>\n",
       "    <tr>\n",
       "      <th>2024-08-01</th>\n",
       "      <td>0.048249</td>\n",
       "      <td>-0.015563</td>\n",
       "      <td>-0.016751</td>\n",
       "      <td>-0.005570</td>\n",
       "      <td>-0.004043</td>\n",
       "    </tr>\n",
       "    <tr>\n",
       "      <th>2024-08-02</th>\n",
       "      <td>-0.019287</td>\n",
       "      <td>-0.087847</td>\n",
       "      <td>0.006869</td>\n",
       "      <td>-0.017940</td>\n",
       "      <td>-0.023485</td>\n",
       "    </tr>\n",
       "    <tr>\n",
       "      <th>2024-08-05</th>\n",
       "      <td>-0.025423</td>\n",
       "      <td>-0.040977</td>\n",
       "      <td>-0.048167</td>\n",
       "      <td>-0.024591</td>\n",
       "      <td>-0.046081</td>\n",
       "    </tr>\n",
       "    <tr>\n",
       "      <th>2024-08-06</th>\n",
       "      <td>0.038593</td>\n",
       "      <td>0.005651</td>\n",
       "      <td>-0.009748</td>\n",
       "      <td>0.018411</td>\n",
       "      <td>-0.000623</td>\n",
       "    </tr>\n",
       "    <tr>\n",
       "      <th>2024-08-07</th>\n",
       "      <td>-0.010464</td>\n",
       "      <td>0.005187</td>\n",
       "      <td>0.012498</td>\n",
       "      <td>0.003133</td>\n",
       "      <td>0.001308</td>\n",
       "    </tr>\n",
       "  </tbody>\n",
       "</table>\n",
       "<p>2919 rows × 5 columns</p>\n",
       "</div>"
      ],
      "text/plain": [
       "                META      AMZN      AAPL      NFLX      GOOG\n",
       "Date                                                        \n",
       "2013-01-02       NaN       NaN       NaN       NaN       NaN\n",
       "2013-01-03 -0.008214  0.004547 -0.012622  0.049777  0.000581\n",
       "2013-01-04  0.035650  0.002592 -0.027855 -0.006315  0.019760\n",
       "2013-01-07  0.022949  0.035925 -0.005882  0.033549 -0.004363\n",
       "2013-01-08 -0.012237 -0.007748  0.002691 -0.020565 -0.001973\n",
       "...              ...       ...       ...       ...       ...\n",
       "2024-08-01  0.048249 -0.015563 -0.016751 -0.005570 -0.004043\n",
       "2024-08-02 -0.019287 -0.087847  0.006869 -0.017940 -0.023485\n",
       "2024-08-05 -0.025423 -0.040977 -0.048167 -0.024591 -0.046081\n",
       "2024-08-06  0.038593  0.005651 -0.009748  0.018411 -0.000623\n",
       "2024-08-07 -0.010464  0.005187  0.012498  0.003133  0.001308\n",
       "\n",
       "[2919 rows x 5 columns]"
      ]
     },
     "execution_count": 72,
     "metadata": {},
     "output_type": "execute_result"
    }
   ],
   "source": [
    "returns = df.pct_change()\n",
    "returns"
   ]
  },
  {
   "cell_type": "code",
   "execution_count": 73,
   "id": "4df42e90-9a83-453d-86dd-aafcf78b9c48",
   "metadata": {},
   "outputs": [
    {
     "data": {
      "text/html": [
       "<div>\n",
       "<style scoped>\n",
       "    .dataframe tbody tr th:only-of-type {\n",
       "        vertical-align: middle;\n",
       "    }\n",
       "\n",
       "    .dataframe tbody tr th {\n",
       "        vertical-align: top;\n",
       "    }\n",
       "\n",
       "    .dataframe thead th {\n",
       "        text-align: right;\n",
       "    }\n",
       "</style>\n",
       "<table border=\"1\" class=\"dataframe\">\n",
       "  <thead>\n",
       "    <tr style=\"text-align: right;\">\n",
       "      <th></th>\n",
       "      <th>META</th>\n",
       "      <th>AMZN</th>\n",
       "      <th>AAPL</th>\n",
       "      <th>NFLX</th>\n",
       "      <th>GOOG</th>\n",
       "    </tr>\n",
       "  </thead>\n",
       "  <tbody>\n",
       "    <tr>\n",
       "      <th>META</th>\n",
       "      <td>0.148415</td>\n",
       "      <td>0.068465</td>\n",
       "      <td>0.050490</td>\n",
       "      <td>0.071021</td>\n",
       "      <td>0.061547</td>\n",
       "    </tr>\n",
       "    <tr>\n",
       "      <th>AMZN</th>\n",
       "      <td>0.068465</td>\n",
       "      <td>0.105067</td>\n",
       "      <td>0.044998</td>\n",
       "      <td>0.070103</td>\n",
       "      <td>0.055517</td>\n",
       "    </tr>\n",
       "    <tr>\n",
       "      <th>AAPL</th>\n",
       "      <td>0.050490</td>\n",
       "      <td>0.044998</td>\n",
       "      <td>0.079651</td>\n",
       "      <td>0.041574</td>\n",
       "      <td>0.043056</td>\n",
       "    </tr>\n",
       "    <tr>\n",
       "      <th>NFLX</th>\n",
       "      <td>0.071021</td>\n",
       "      <td>0.070103</td>\n",
       "      <td>0.041574</td>\n",
       "      <td>0.213474</td>\n",
       "      <td>0.053078</td>\n",
       "    </tr>\n",
       "    <tr>\n",
       "      <th>GOOG</th>\n",
       "      <td>0.061547</td>\n",
       "      <td>0.055517</td>\n",
       "      <td>0.043056</td>\n",
       "      <td>0.053078</td>\n",
       "      <td>0.075545</td>\n",
       "    </tr>\n",
       "  </tbody>\n",
       "</table>\n",
       "</div>"
      ],
      "text/plain": [
       "          META      AMZN      AAPL      NFLX      GOOG\n",
       "META  0.148415  0.068465  0.050490  0.071021  0.061547\n",
       "AMZN  0.068465  0.105067  0.044998  0.070103  0.055517\n",
       "AAPL  0.050490  0.044998  0.079651  0.041574  0.043056\n",
       "NFLX  0.071021  0.070103  0.041574  0.213474  0.053078\n",
       "GOOG  0.061547  0.055517  0.043056  0.053078  0.075545"
      ]
     },
     "execution_count": 73,
     "metadata": {},
     "output_type": "execute_result"
    }
   ],
   "source": [
    "# Create and show th annaulized covariance matrix\n",
    "\n",
    "cov_matrix_annual = returns.cov() * 252\n",
    "\n",
    "cov_matrix_annual"
   ]
  },
  {
   "cell_type": "code",
   "execution_count": 74,
   "id": "13a96939-f4d2-45c2-a338-c38a9b866787",
   "metadata": {},
   "outputs": [
    {
     "data": {
      "text/plain": [
       "0.0696741255895589"
      ]
     },
     "execution_count": 74,
     "metadata": {},
     "output_type": "execute_result"
    }
   ],
   "source": [
    "# Calculate the portfolio variance\n",
    "port_variance = np.dot(weights.T, np.dot(cov_matrix_annual, weights))\n",
    "\n",
    "port_variance"
   ]
  },
  {
   "cell_type": "code",
   "execution_count": 75,
   "id": "6c928298-79d9-4d3f-a528-1cc80cbc5712",
   "metadata": {},
   "outputs": [
    {
     "data": {
      "text/plain": [
       "0.2639585679411807"
      ]
     },
     "execution_count": 75,
     "metadata": {},
     "output_type": "execute_result"
    }
   ],
   "source": [
    "# Calculate the portfolio volatility aka std\n",
    "\n",
    "port_volatility = np.sqrt(port_variance)\n",
    "port_volatility"
   ]
  },
  {
   "cell_type": "code",
   "execution_count": 76,
   "id": "48e0ff12-3d86-4224-9b5f-881e2dac1606",
   "metadata": {},
   "outputs": [
    {
     "data": {
      "text/plain": [
       "0.3032101452697623"
      ]
     },
     "execution_count": 76,
     "metadata": {},
     "output_type": "execute_result"
    }
   ],
   "source": [
    "# Calculate the annual portfolio return\n",
    "\n",
    "portfolioSimpleAnnualReturn = np.sum(returns.mean() * weights) * 252\n",
    "portfolioSimpleAnnualReturn"
   ]
  },
  {
   "cell_type": "code",
   "execution_count": 95,
   "id": "01e765f3-de43-4b5e-ba68-df722226a4af",
   "metadata": {},
   "outputs": [
    {
     "name": "stdout",
     "output_type": "stream",
     "text": [
      "Expected annual return: 30.0%\n",
      "Annual volatility/risk: 26.0%\n",
      "Annual variance: 7.000000000000001%\n"
     ]
    }
   ],
   "source": [
    "# Show the expected annual return, volatility (risk), and variance\n",
    "\n",
    "percent_var = str(round(port_variance, 2) * 100) + '%'\n",
    "percent_vols = str(round(port_volatility, 2) * 100) + '%'\n",
    "percent_ret = str(round(portfolioSimpleAnnualReturn, 2) * 100) + '%'\n",
    "\n",
    "print('Expected annual return: ' + percent_ret)\n",
    "print('Annual volatility/risk: ' + percent_vols)\n",
    "print('Annual variance: ' + percent_var)"
   ]
  },
  {
   "cell_type": "code",
   "execution_count": 78,
   "id": "12da37f0-d262-408a-8386-18cc92bfca5e",
   "metadata": {},
   "outputs": [],
   "source": [
    "from pypfopt.efficient_frontier import EfficientFrontier\n",
    "from pypfopt import risk_models\n",
    "from pypfopt import expected_returns"
   ]
  },
  {
   "cell_type": "code",
   "execution_count": 92,
   "id": "a7473230-06fb-4b2f-b2b2-1e279b354bfd",
   "metadata": {},
   "outputs": [
    {
     "name": "stdout",
     "output_type": "stream",
     "text": [
      "OrderedDict([('META', 0.11659), ('AMZN', 0.07788), ('AAPL', 0.45622), ('NFLX', 0.30667), ('GOOG', 0.04264)])\n",
      "Expected annual return: 29.3%\n",
      "Annual volatility: 27.1%\n",
      "Sharpe Ratio: 1.01\n"
     ]
    },
    {
     "data": {
      "text/plain": [
       "(0.29261533944846396, 0.27085660119591254, 1.0064932449302917)"
      ]
     },
     "execution_count": 92,
     "metadata": {},
     "output_type": "execute_result"
    }
   ],
   "source": [
    "mu = expected_returns.mean_historical_return(df)\n",
    "S = risk_models.sample_cov(df)\n",
    "\n",
    "# Optimize for maximum Sharpe ratio\n",
    "ef = EfficientFrontier(mu, S)\n",
    "\n",
    "weights = ef.max_sharpe()\n",
    "\n",
    "cleaned_weights = ef.clean_weights()\n",
    "\n",
    "print(cleaned_weights)\n",
    "ef.portfolio_performance(verbose=True)"
   ]
  },
  {
   "cell_type": "code",
   "execution_count": 93,
   "id": "2091ffa4-9cd0-428c-8266-e15de5c2022f",
   "metadata": {},
   "outputs": [],
   "source": [
    "# Get the discrete allocation of each share per stock\n",
    "\n",
    "from pypfopt.discrete_allocation import DiscreteAllocation, get_latest_prices\n",
    "\n",
    "latest_prices = get_latest_prices(df)\n",
    "weights = cleaned_weights\n",
    "da = DiscreteAllocation(weights, latest_prices, total_portfolio_value = 15000)"
   ]
  },
  {
   "cell_type": "code",
   "execution_count": 94,
   "id": "f68278cb-74f5-4276-bed8-75c3cfb5b87a",
   "metadata": {},
   "outputs": [
    {
     "name": "stdout",
     "output_type": "stream",
     "text": [
      "Discrete allocation: {'META': 4, 'AMZN': 7, 'AAPL': 33, 'NFLX': 7, 'GOOG': 4}\n",
      "Fund remaining: $57.51\n"
     ]
    }
   ],
   "source": [
    "allocation, leftover = da.lp_portfolio()\n",
    "print('Discrete allocation:', allocation)\n",
    "print('Fund remaining: ${:.2f}'.format(leftover))"
   ]
  },
  {
   "cell_type": "code",
   "execution_count": null,
   "id": "34e170e2-c061-4262-bfb8-4edd4c615a1b",
   "metadata": {},
   "outputs": [],
   "source": []
  },
  {
   "cell_type": "code",
   "execution_count": null,
   "id": "bc3671ee-eff2-4943-9ccb-65bfb8434eb4",
   "metadata": {},
   "outputs": [],
   "source": []
  }
 ],
 "metadata": {
  "kernelspec": {
   "display_name": "Python 3 (ipykernel)",
   "language": "python",
   "name": "python3"
  },
  "language_info": {
   "codemirror_mode": {
    "name": "ipython",
    "version": 3
   },
   "file_extension": ".py",
   "mimetype": "text/x-python",
   "name": "python",
   "nbconvert_exporter": "python",
   "pygments_lexer": "ipython3",
   "version": "3.11.9"
  }
 },
 "nbformat": 4,
 "nbformat_minor": 5
}
