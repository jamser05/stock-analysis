{
 "cells": [
  {
   "cell_type": "code",
   "execution_count": 2,
   "id": "3d4ea4d5-e3dd-4cdb-ab5f-897d12546653",
   "metadata": {},
   "outputs": [],
   "source": [
    "import math\n",
    "import yfinance as yf\n",
    "import pandas_datareader as web\n",
    "import numpy as np\n",
    "import pandas as pd\n",
    "from sklearn.preprocessing import MinMaxScaler\n",
    "from keras.models import Sequential\n",
    "from keras.layers import Dense, LSTM\n",
    "import matplotlib.pyplot as plt\n",
    "\n",
    "plt.style.use('fivethirtyeight')"
   ]
  },
  {
   "cell_type": "code",
   "execution_count": 3,
   "id": "ab12f0ab-5b29-4626-875a-553f23e15b69",
   "metadata": {},
   "outputs": [
    {
     "name": "stderr",
     "output_type": "stream",
     "text": [
      "[*********************100%%**********************]  1 of 1 completed\n"
     ]
    }
   ],
   "source": [
    "df = yf.download('AAPL', start='2012-01-01', end='2024-07-29')"
   ]
  },
  {
   "cell_type": "code",
   "execution_count": 4,
   "id": "797f1d8f-817b-4099-81bd-32614b509874",
   "metadata": {},
   "outputs": [
    {
     "data": {
      "text/html": [
       "<div>\n",
       "<style scoped>\n",
       "    .dataframe tbody tr th:only-of-type {\n",
       "        vertical-align: middle;\n",
       "    }\n",
       "\n",
       "    .dataframe tbody tr th {\n",
       "        vertical-align: top;\n",
       "    }\n",
       "\n",
       "    .dataframe thead th {\n",
       "        text-align: right;\n",
       "    }\n",
       "</style>\n",
       "<table border=\"1\" class=\"dataframe\">\n",
       "  <thead>\n",
       "    <tr style=\"text-align: right;\">\n",
       "      <th></th>\n",
       "      <th>Open</th>\n",
       "      <th>High</th>\n",
       "      <th>Low</th>\n",
       "      <th>Close</th>\n",
       "      <th>Adj Close</th>\n",
       "      <th>Volume</th>\n",
       "    </tr>\n",
       "    <tr>\n",
       "      <th>Date</th>\n",
       "      <th></th>\n",
       "      <th></th>\n",
       "      <th></th>\n",
       "      <th></th>\n",
       "      <th></th>\n",
       "      <th></th>\n",
       "    </tr>\n",
       "  </thead>\n",
       "  <tbody>\n",
       "    <tr>\n",
       "      <th>2012-01-03</th>\n",
       "      <td>14.621429</td>\n",
       "      <td>14.732143</td>\n",
       "      <td>14.607143</td>\n",
       "      <td>14.686786</td>\n",
       "      <td>12.416984</td>\n",
       "      <td>302220800</td>\n",
       "    </tr>\n",
       "    <tr>\n",
       "      <th>2012-01-04</th>\n",
       "      <td>14.642857</td>\n",
       "      <td>14.810000</td>\n",
       "      <td>14.617143</td>\n",
       "      <td>14.765714</td>\n",
       "      <td>12.483709</td>\n",
       "      <td>260022000</td>\n",
       "    </tr>\n",
       "    <tr>\n",
       "      <th>2012-01-05</th>\n",
       "      <td>14.819643</td>\n",
       "      <td>14.948214</td>\n",
       "      <td>14.738214</td>\n",
       "      <td>14.929643</td>\n",
       "      <td>12.622305</td>\n",
       "      <td>271269600</td>\n",
       "    </tr>\n",
       "    <tr>\n",
       "      <th>2012-01-06</th>\n",
       "      <td>14.991786</td>\n",
       "      <td>15.098214</td>\n",
       "      <td>14.972143</td>\n",
       "      <td>15.085714</td>\n",
       "      <td>12.754259</td>\n",
       "      <td>318292800</td>\n",
       "    </tr>\n",
       "    <tr>\n",
       "      <th>2012-01-09</th>\n",
       "      <td>15.196429</td>\n",
       "      <td>15.276786</td>\n",
       "      <td>15.048214</td>\n",
       "      <td>15.061786</td>\n",
       "      <td>12.734027</td>\n",
       "      <td>394024400</td>\n",
       "    </tr>\n",
       "  </tbody>\n",
       "</table>\n",
       "</div>"
      ],
      "text/plain": [
       "                 Open       High        Low      Close  Adj Close     Volume\n",
       "Date                                                                        \n",
       "2012-01-03  14.621429  14.732143  14.607143  14.686786  12.416984  302220800\n",
       "2012-01-04  14.642857  14.810000  14.617143  14.765714  12.483709  260022000\n",
       "2012-01-05  14.819643  14.948214  14.738214  14.929643  12.622305  271269600\n",
       "2012-01-06  14.991786  15.098214  14.972143  15.085714  12.754259  318292800\n",
       "2012-01-09  15.196429  15.276786  15.048214  15.061786  12.734027  394024400"
      ]
     },
     "execution_count": 4,
     "metadata": {},
     "output_type": "execute_result"
    }
   ],
   "source": [
    "df.head()"
   ]
  },
  {
   "cell_type": "code",
   "execution_count": 5,
   "id": "274c2027-219c-40f0-9f71-e275bd9e45d0",
   "metadata": {},
   "outputs": [
    {
     "data": {
      "text/plain": [
       "(3161, 6)"
      ]
     },
     "execution_count": 5,
     "metadata": {},
     "output_type": "execute_result"
    }
   ],
   "source": [
    "df.shape"
   ]
  },
  {
   "cell_type": "code",
   "execution_count": null,
   "id": "af4da998-fbc4-4493-9dda-198f292bc347",
   "metadata": {},
   "outputs": [],
   "source": [
    "plt.figure(figsize=(3, 3))\n",
    "\n",
    "plt.plot(\n",
    "    df['Adj Close'],\n",
    "    c='blue'\n",
    ")\n",
    "\n",
    "plt.title('Close Price History', fontsize=32)\n",
    "plt.xlabel('Date (Year)', fontsize=24)\n",
    "plt.ylabel('Close Price USD ($)', fontsize=24)\n",
    "\n",
    "plt.show()"
   ]
  },
  {
   "cell_type": "code",
   "execution_count": 7,
   "id": "d152f21c-8eaa-4901-b0e1-b564576ec7dd",
   "metadata": {},
   "outputs": [
    {
     "name": "stdout",
     "output_type": "stream",
     "text": [
      "                 Close\n",
      "Date                  \n",
      "2012-01-03   14.686786\n",
      "2012-01-04   14.765714\n",
      "2012-01-05   14.929643\n",
      "2012-01-06   15.085714\n",
      "2012-01-09   15.061786\n",
      "...                ...\n",
      "2024-07-22  223.960007\n",
      "2024-07-23  225.009995\n",
      "2024-07-24  218.539993\n",
      "2024-07-25  217.490005\n",
      "2024-07-26  217.960007\n",
      "\n",
      "[3161 rows x 1 columns]\n"
     ]
    }
   ],
   "source": [
    "# Creae a new dataframe with only the Close Column\n",
    "data = df.filter(['Close'])\n",
    "\n",
    "print(data)"
   ]
  },
  {
   "cell_type": "code",
   "execution_count": 8,
   "id": "10de1506-3f7d-456c-9bb9-96412ed7e51c",
   "metadata": {},
   "outputs": [],
   "source": [
    "dataset = data.values"
   ]
  },
  {
   "cell_type": "code",
   "execution_count": 9,
   "id": "633aa7bf-cbce-49e2-93ca-b468bb55952a",
   "metadata": {},
   "outputs": [
    {
     "name": "stdout",
     "output_type": "stream",
     "text": [
      "2529\n"
     ]
    }
   ],
   "source": [
    "training_data_len = math.ceil(len(dataset) * 0.8)\n",
    "\n",
    "print(training_data_len)"
   ]
  },
  {
   "cell_type": "code",
   "execution_count": 10,
   "id": "0f890e9a-fd4e-4141-8541-5361891d6150",
   "metadata": {},
   "outputs": [],
   "source": [
    "#Scale the data\n",
    "scaler = MinMaxScaler(feature_range=(0,1))\n",
    "\n",
    "scaled_data = scaler.fit_transform(dataset)"
   ]
  },
  {
   "cell_type": "code",
   "execution_count": 11,
   "id": "8e662b34-5048-45b3-8cdb-7b49f59dd55c",
   "metadata": {},
   "outputs": [
    {
     "data": {
      "text/plain": [
       "array([[0.00334711],\n",
       "       [0.00370446],\n",
       "       [0.00444665],\n",
       "       ...,\n",
       "       [0.92629226],\n",
       "       [0.92153844],\n",
       "       [0.92366637]])"
      ]
     },
     "execution_count": 11,
     "metadata": {},
     "output_type": "execute_result"
    }
   ],
   "source": [
    "scaled_data"
   ]
  },
  {
   "cell_type": "code",
   "execution_count": 12,
   "id": "9069f68d-a746-4964-a153-f9d0b284c9fd",
   "metadata": {},
   "outputs": [
    {
     "name": "stdout",
     "output_type": "stream",
     "text": [
      "[array([0.00334711, 0.00370446, 0.00444665, 0.00515326, 0.00504493,\n",
      "       0.00528909, 0.00517752, 0.00498995, 0.00473447, 0.00552516,\n",
      "       0.00623825, 0.00601834, 0.0048137 , 0.00596336, 0.00483149,\n",
      "       0.00907602, 0.00874778, 0.00917627, 0.01010279, 0.01066387,\n",
      "       0.01061698, 0.01044397, 0.0111813 , 0.01187498, 0.01266083,\n",
      "       0.01393014, 0.01659652, 0.01663694, 0.01812132, 0.01923055,\n",
      "       0.01732415, 0.01805825, 0.0180437 , 0.0201021 , 0.01980942,\n",
      "       0.0203511 , 0.02132451, 0.0218662 , 0.02342657, 0.02456329,\n",
      "       0.02489154, 0.02500635, 0.02306276, 0.02259383, 0.02266337,\n",
      "       0.02449054, 0.02500473, 0.02610912, 0.02871243, 0.03218567,\n",
      "       0.03153564, 0.03153726, 0.03404841, 0.03483426, 0.03427478,\n",
      "       0.03376382, 0.03323184, 0.03499918, 0.03621191, 0.03671963])]\n",
      "----\n",
      "[0.03546486572351548]\n",
      "[array([0.00334711, 0.00370446, 0.00444665, 0.00515326, 0.00504493,\n",
      "       0.00528909, 0.00517752, 0.00498995, 0.00473447, 0.00552516,\n",
      "       0.00623825, 0.00601834, 0.0048137 , 0.00596336, 0.00483149,\n",
      "       0.00907602, 0.00874778, 0.00917627, 0.01010279, 0.01066387,\n",
      "       0.01061698, 0.01044397, 0.0111813 , 0.01187498, 0.01266083,\n",
      "       0.01393014, 0.01659652, 0.01663694, 0.01812132, 0.01923055,\n",
      "       0.01732415, 0.01805825, 0.0180437 , 0.0201021 , 0.01980942,\n",
      "       0.0203511 , 0.02132451, 0.0218662 , 0.02342657, 0.02456329,\n",
      "       0.02489154, 0.02500635, 0.02306276, 0.02259383, 0.02266337,\n",
      "       0.02449054, 0.02500473, 0.02610912, 0.02871243, 0.03218567,\n",
      "       0.03153564, 0.03153726, 0.03404841, 0.03483426, 0.03427478,\n",
      "       0.03376382, 0.03323184, 0.03499918, 0.03621191, 0.03671963]), array([0.00370446, 0.00444665, 0.00515326, 0.00504493, 0.00528909,\n",
      "       0.00517752, 0.00498995, 0.00473447, 0.00552516, 0.00623825,\n",
      "       0.00601834, 0.0048137 , 0.00596336, 0.00483149, 0.00907602,\n",
      "       0.00874778, 0.00917627, 0.01010279, 0.01066387, 0.01061698,\n",
      "       0.01044397, 0.0111813 , 0.01187498, 0.01266083, 0.01393014,\n",
      "       0.01659652, 0.01663694, 0.01812132, 0.01923055, 0.01732415,\n",
      "       0.01805825, 0.0180437 , 0.0201021 , 0.01980942, 0.0203511 ,\n",
      "       0.02132451, 0.0218662 , 0.02342657, 0.02456329, 0.02489154,\n",
      "       0.02500635, 0.02306276, 0.02259383, 0.02266337, 0.02449054,\n",
      "       0.02500473, 0.02610912, 0.02871243, 0.03218567, 0.03153564,\n",
      "       0.03153726, 0.03404841, 0.03483426, 0.03427478, 0.03376382,\n",
      "       0.03323184, 0.03499918, 0.03621191, 0.03671963, 0.03546487])]\n",
      "----\n",
      "[0.03546486572351548, 0.03379777886690856]\n"
     ]
    }
   ],
   "source": [
    "#Create the training data set\n",
    "# Create the scaled training dataset\n",
    "\n",
    "train_data = scaled_data[0:training_data_len, :]\n",
    "\n",
    "#Split the data into x_train and y_train data sets\n",
    "\n",
    "x_train, y_train = [], []\n",
    "\n",
    "\n",
    "for i in range(60, len(train_data)):\n",
    "    x_train.append(train_data[i - 60: i, 0])\n",
    "    y_train.append(train_data[i, 0])\n",
    "\n",
    "    if i <= 61:\n",
    "        print(x_train)\n",
    "        print(\"----\")\n",
    "        print(y_train)"
   ]
  },
  {
   "cell_type": "code",
   "execution_count": 13,
   "id": "cf1705ca-99c5-4fc2-81d8-2ebd1e1f65c8",
   "metadata": {},
   "outputs": [],
   "source": [
    "#Convert the x_train and y_train to numpy arrays\n",
    "\n",
    "x_train, y_train = np.array(x_train), np.array(y_train)"
   ]
  },
  {
   "cell_type": "code",
   "execution_count": 14,
   "id": "c81e304c-615c-43a1-b670-647ccc6e5ab5",
   "metadata": {},
   "outputs": [
    {
     "data": {
      "text/plain": [
       "(2469, 60, 1)"
      ]
     },
     "execution_count": 14,
     "metadata": {},
     "output_type": "execute_result"
    }
   ],
   "source": [
    "# reshape the data - LSTM needs to be 3-dimesnional\n",
    "x_train = np.reshape(x_train, (x_train.shape[0], x_train.shape[1], 1))\n",
    "x_train.shape"
   ]
  },
  {
   "cell_type": "code",
   "execution_count": 15,
   "id": "98159bb8-7074-4a13-a7cf-be1ecdbfebf7",
   "metadata": {},
   "outputs": [
   ],
   "source": [
    "#Build the LSTM MOdel\n",
    "\n",
    "model = Sequential()\n",
    "model.add(LSTM(50, return_sequences=True, input_shape=(x_train.shape[1], 1)))\n",
    "model.add(LSTM(50, return_sequences=False))\n",
    "model.add(Dense(25))\n",
    "model.add(Dense(1))"
   ]
  },
  {
   "cell_type": "code",
   "execution_count": 16,
   "id": "7c266d33-4ed7-43b2-bd16-fed4f41c8690",
   "metadata": {},
   "outputs": [],
   "source": [
    "#Compile the model\n",
    "\n",
    "model.compile(optimizer='adam', loss='mean_squared_error')"
   ]
  },
  {
   "cell_type": "code",
   "execution_count": 17,
   "id": "565b5c26-6637-4a99-9b9b-5f59e91bf38b",
   "metadata": {},
   "outputs": [
    {
     "name": "stdout",
     "output_type": "stream",
     "text": [
      "\u001b[1m2469/2469\u001b[0m \u001b[32m━━━━━━━━━━━━━━━━━━━━\u001b[0m\u001b[37m\u001b[0m \u001b[1m108s\u001b[0m 41ms/step - loss: 0.0012\n"
     ]
    },
    {
     "data": {
      "text/plain": [
       "<keras.src.callbacks.history.History at 0x20179c55ad0>"
      ]
     },
     "execution_count": 17,
     "metadata": {},
     "output_type": "execute_result"
    }
   ],
   "source": [
    "# Train the model\n",
    "\n",
    "model.fit(x_train, y_train, batch_size=1, epochs=1)"
   ]
  },
  {
   "cell_type": "code",
   "execution_count": 18,
   "id": "2db6559e-7e62-4dc9-9fe4-8f89a793ed51",
   "metadata": {},
   "outputs": [],
   "source": [
    "# Create the testing data set\n",
    "# Create a new array containing scaled values from index 1543 to 2003\n",
    "\n",
    "test_data = scaled_data[training_data_len - 60:, :]\n",
    "\n",
    "# Create the data sets x_test and y_test\n",
    "\n",
    "x_test, y_test = [], dataset[training_data_len:, :]\n",
    "\n",
    "\n",
    "for i in range(60, len(test_data)):\n",
    "    x_test.append(test_data[i - 60: i, 0])"
   ]
  },
  {
   "cell_type": "code",
   "execution_count": 19,
   "id": "13bedde6-8784-4561-8b7e-a63698bb59f6",
   "metadata": {},
   "outputs": [],
   "source": [
    "# Convert the data into a numpy array\n",
    "\n",
    "x_test = np.array(x_test)"
   ]
  },
  {
   "cell_type": "code",
   "execution_count": 20,
   "id": "7be4eb6d-46bd-4c7b-9ab8-f1ba48cc315d",
   "metadata": {},
   "outputs": [],
   "source": [
    "x_test = np.reshape(x_test, (x_test.shape[0], x_test.shape[1], 1))"
   ]
  },
  {
   "cell_type": "code",
   "execution_count": 21,
   "id": "60305b4c-7ef4-42ba-b587-e80dc8b66668",
   "metadata": {},
   "outputs": [
    {
     "name": "stdout",
     "output_type": "stream",
     "text": [
      "\u001b[1m20/20\u001b[0m \u001b[32m━━━━━━━━━━━━━━━━━━━━\u001b[0m\u001b[37m\u001b[0m \u001b[1m2s\u001b[0m 77ms/step\n"
     ]
    }
   ],
   "source": [
    "# Get the models predicted price values\n",
    "\n",
    "predictions = model.predict(x_test)\n",
    "\n",
    "predictions = scaler.inverse_transform(predictions)"
   ]
  },
  {
   "cell_type": "code",
   "execution_count": 22,
   "id": "63661c7e-b758-4188-ab4d-652dc09f1185",
   "metadata": {},
   "outputs": [
    {
     "data": {
      "text/plain": [
       "1.0961538025095492"
      ]
     },
     "execution_count": 22,
     "metadata": {},
     "output_type": "execute_result"
    }
   ],
   "source": [
    "# Get the root mean squared error (RMSE)\n",
    "\n",
    "rmse = np.sqrt(np.mean(predictions - y_test)**2)\n",
    "rmse"
   ]
  },
  {
   "cell_type": "code",
   "execution_count": 23,
   "id": "2ccacb73-f4f8-407a-9750-d44192ac310b",
   "metadata": {},
   "outputs": [
    {
     "name": "stderr",
     "output_type": "stream",
     "text": [
      "C:\\Users\\melap\\AppData\\Local\\Temp\\ipykernel_10516\\3868700405.py:6: SettingWithCopyWarning: \n",
      "A value is trying to be set on a copy of a slice from a DataFrame.\n",
      "Try using .loc[row_indexer,col_indexer] = value instead\n",
      "\n",
      "See the caveats in the documentation: https://pandas.pydata.org/pandas-docs/stable/user_guide/indexing.html#returning-a-view-versus-a-copy\n",
      "  valid['Predictions'] = predictions\n"
     ]
    }
   ],
   "source": [
    "# Plot the data\n",
    "\n",
    "train = data[:training_data_len]\n",
    "\n",
    "valid = data[training_data_len:]\n",
    "valid['Predictions'] = predictions"
   ]
  },
  {
   "cell_type": "code",
   "execution_count": 24,
   "id": "232291b9-db9c-4ecd-b5c1-daf133ebc32a",
   "metadata": {},
   "outputs": [
    {
     "data": {
      "image/png": "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",
      "text/plain": [
       "<Figure size 1600x800 with 1 Axes>"
      ]
     },
     "metadata": {},
     "output_type": "display_data"
    }
   ],
   "source": [
    "# Visualize the data\n",
    "\n",
    "plt.figure(figsize=(16, 8))\n",
    "\n",
    "plt.title('Model')\n",
    "plt.xlabel('Date', fontsize=18)\n",
    "plt.ylabel('Closed Price USD ($)', fontsize=18)\n",
    "\n",
    "plt.plot(train['Close'])\n",
    "plt.plot(valid[['Close', 'Predictions']])\n",
    "plt.legend(['Train', 'Val', 'Predictions'], loc='lower right')\n",
    "plt.show()"
   ]
  },
  {
   "cell_type": "code",
   "execution_count": 25,
   "id": "15239dcd-30e7-45f9-a2e9-17b7edc20419",
   "metadata": {},
   "outputs": [
    {
     "data": {
      "text/html": [
       "<div>\n",
       "<style scoped>\n",
       "    .dataframe tbody tr th:only-of-type {\n",
       "        vertical-align: middle;\n",
       "    }\n",
       "\n",
       "    .dataframe tbody tr th {\n",
       "        vertical-align: top;\n",
       "    }\n",
       "\n",
       "    .dataframe thead th {\n",
       "        text-align: right;\n",
       "    }\n",
       "</style>\n",
       "<table border=\"1\" class=\"dataframe\">\n",
       "  <thead>\n",
       "    <tr style=\"text-align: right;\">\n",
       "      <th></th>\n",
       "      <th>Close</th>\n",
       "      <th>Predictions</th>\n",
       "    </tr>\n",
       "    <tr>\n",
       "      <th>Date</th>\n",
       "      <th></th>\n",
       "      <th></th>\n",
       "    </tr>\n",
       "  </thead>\n",
       "  <tbody>\n",
       "    <tr>\n",
       "      <th>2022-01-20</th>\n",
       "      <td>164.509995</td>\n",
       "      <td>173.768372</td>\n",
       "    </tr>\n",
       "    <tr>\n",
       "      <th>2022-01-21</th>\n",
       "      <td>162.410004</td>\n",
       "      <td>172.349304</td>\n",
       "    </tr>\n",
       "    <tr>\n",
       "      <th>2022-01-24</th>\n",
       "      <td>161.619995</td>\n",
       "      <td>170.701157</td>\n",
       "    </tr>\n",
       "    <tr>\n",
       "      <th>2022-01-25</th>\n",
       "      <td>159.779999</td>\n",
       "      <td>169.031219</td>\n",
       "    </tr>\n",
       "    <tr>\n",
       "      <th>2022-01-26</th>\n",
       "      <td>159.690002</td>\n",
       "      <td>167.326141</td>\n",
       "    </tr>\n",
       "    <tr>\n",
       "      <th>...</th>\n",
       "      <td>...</td>\n",
       "      <td>...</td>\n",
       "    </tr>\n",
       "    <tr>\n",
       "      <th>2024-07-22</th>\n",
       "      <td>223.960007</td>\n",
       "      <td>229.161362</td>\n",
       "    </tr>\n",
       "    <tr>\n",
       "      <th>2024-07-23</th>\n",
       "      <td>225.009995</td>\n",
       "      <td>228.140411</td>\n",
       "    </tr>\n",
       "    <tr>\n",
       "      <th>2024-07-24</th>\n",
       "      <td>218.539993</td>\n",
       "      <td>227.268600</td>\n",
       "    </tr>\n",
       "    <tr>\n",
       "      <th>2024-07-25</th>\n",
       "      <td>217.490005</td>\n",
       "      <td>225.825211</td>\n",
       "    </tr>\n",
       "    <tr>\n",
       "      <th>2024-07-26</th>\n",
       "      <td>217.960007</td>\n",
       "      <td>224.185059</td>\n",
       "    </tr>\n",
       "  </tbody>\n",
       "</table>\n",
       "<p>632 rows × 2 columns</p>\n",
       "</div>"
      ],
      "text/plain": [
       "                 Close  Predictions\n",
       "Date                               \n",
       "2022-01-20  164.509995   173.768372\n",
       "2022-01-21  162.410004   172.349304\n",
       "2022-01-24  161.619995   170.701157\n",
       "2022-01-25  159.779999   169.031219\n",
       "2022-01-26  159.690002   167.326141\n",
       "...                ...          ...\n",
       "2024-07-22  223.960007   229.161362\n",
       "2024-07-23  225.009995   228.140411\n",
       "2024-07-24  218.539993   227.268600\n",
       "2024-07-25  217.490005   225.825211\n",
       "2024-07-26  217.960007   224.185059\n",
       "\n",
       "[632 rows x 2 columns]"
      ]
     },
     "execution_count": 25,
     "metadata": {},
     "output_type": "execute_result"
    }
   ],
   "source": [
    "# Show the valid and predicted prices\n",
    "\n",
    "valid"
   ]
  },
  {
   "cell_type": "code",
   "execution_count": 26,
   "id": "93d98a10-57ae-41f7-a810-e60d46f8605f",
   "metadata": {},
   "outputs": [
    {
     "name": "stderr",
     "output_type": "stream",
     "text": [
      "[*********************100%%**********************]  1 of 1 completed\n"
     ]
    }
   ],
   "source": [
    "# Get the qoute\n",
    "\n",
    "apple_qoute = yf.download('AAPL', start='2012-01-01', end='2024-07-26')"
   ]
  },
  {
   "cell_type": "code",
   "execution_count": 27,
   "id": "e99ec303-d3bb-4299-a431-1324a15cdefe",
   "metadata": {},
   "outputs": [
    {
     "data": {
      "text/html": [
       "<div>\n",
       "<style scoped>\n",
       "    .dataframe tbody tr th:only-of-type {\n",
       "        vertical-align: middle;\n",
       "    }\n",
       "\n",
       "    .dataframe tbody tr th {\n",
       "        vertical-align: top;\n",
       "    }\n",
       "\n",
       "    .dataframe thead th {\n",
       "        text-align: right;\n",
       "    }\n",
       "</style>\n",
       "<table border=\"1\" class=\"dataframe\">\n",
       "  <thead>\n",
       "    <tr style=\"text-align: right;\">\n",
       "      <th></th>\n",
       "      <th>Open</th>\n",
       "      <th>High</th>\n",
       "      <th>Low</th>\n",
       "      <th>Close</th>\n",
       "      <th>Adj Close</th>\n",
       "      <th>Volume</th>\n",
       "    </tr>\n",
       "    <tr>\n",
       "      <th>Date</th>\n",
       "      <th></th>\n",
       "      <th></th>\n",
       "      <th></th>\n",
       "      <th></th>\n",
       "      <th></th>\n",
       "      <th></th>\n",
       "    </tr>\n",
       "  </thead>\n",
       "  <tbody>\n",
       "    <tr>\n",
       "      <th>2024-07-24</th>\n",
       "      <td>224.000000</td>\n",
       "      <td>224.800003</td>\n",
       "      <td>217.130005</td>\n",
       "      <td>218.539993</td>\n",
       "      <td>218.539993</td>\n",
       "      <td>61777600</td>\n",
       "    </tr>\n",
       "    <tr>\n",
       "      <th>2024-07-25</th>\n",
       "      <td>218.929993</td>\n",
       "      <td>220.850006</td>\n",
       "      <td>214.619995</td>\n",
       "      <td>217.490005</td>\n",
       "      <td>217.490005</td>\n",
       "      <td>51391200</td>\n",
       "    </tr>\n",
       "  </tbody>\n",
       "</table>\n",
       "</div>"
      ],
      "text/plain": [
       "                  Open        High         Low       Close   Adj Close  \\\n",
       "Date                                                                     \n",
       "2024-07-24  224.000000  224.800003  217.130005  218.539993  218.539993   \n",
       "2024-07-25  218.929993  220.850006  214.619995  217.490005  217.490005   \n",
       "\n",
       "              Volume  \n",
       "Date                  \n",
       "2024-07-24  61777600  \n",
       "2024-07-25  51391200  "
      ]
     },
     "execution_count": 27,
     "metadata": {},
     "output_type": "execute_result"
    }
   ],
   "source": [
    "apple_qoute.tail(2)"
   ]
  },
  {
   "cell_type": "code",
   "execution_count": 28,
   "id": "e9ce71a3-91c3-4c17-8b50-85b29d59a160",
   "metadata": {},
   "outputs": [],
   "source": [
    "new_df = apple_qoute.filter(['Close'])"
   ]
  },
  {
   "cell_type": "code",
   "execution_count": 29,
   "id": "703dacc8-3baf-40c0-885e-5b7d26726839",
   "metadata": {},
   "outputs": [],
   "source": [
    "last_60_days = new_df[-60:].values\n",
    "\n",
    "#Scale the data to be values between 0 and 1\n",
    "\n",
    "last_60_days_scaled = scaler.transform(last_60_days)\n",
    "\n",
    "#Create empty list\n",
    "\n",
    "X_test = []\n",
    "\n",
    "X_test.append(last_60_days_scaled)\n",
    "\n",
    "X_test = np.array(X_test)\n",
    "\n",
    "X_test = np.reshape(X_test, (X_test.shape[0], X_test.shape[1], 1))"
   ]
  },
  {
   "cell_type": "code",
   "execution_count": 30,
   "id": "b2b8f02c-8107-4574-8e71-f094195e7020",
   "metadata": {},
   "outputs": [
    {
     "name": "stdout",
     "output_type": "stream",
     "text": [
      "\u001b[1m1/1\u001b[0m \u001b[32m━━━━━━━━━━━━━━━━━━━━\u001b[0m\u001b[37m\u001b[0m \u001b[1m0s\u001b[0m 63ms/step\n",
      "[[224.18506]]\n"
     ]
    }
   ],
   "source": [
    "# Get the predicted scale price\n",
    "\n",
    "pred_price = model.predict(X_test)\n",
    "\n",
    "#undo the scaling\n",
    "pred_price = scaler.inverse_transform(pred_price)\n",
    "\n",
    "print(pred_price)"
   ]
  },
  {
   "cell_type": "code",
   "execution_count": 31,
   "id": "51b930da-e3d4-4c87-ae8f-c6da76bd5a93",
   "metadata": {},
   "outputs": [
    {
     "data": {
      "text/plain": [
       "Date\n",
       "2024-07-25    217.490005\n",
       "Name: Close, dtype: float64"
      ]
     },
     "execution_count": 31,
     "metadata": {},
     "output_type": "execute_result"
    }
   ],
   "source": [
    "apple_qoute.tail(1)['Close']"
   ]
  },
  {
   "cell_type": "code",
   "execution_count": 32,
   "id": "e6e27ca9-d56b-4203-8840-0efb27b0f8e6",
   "metadata": {},
   "outputs": [
    {
     "ename": "NameError",
     "evalue": "name 'apple_qoute2' is not defined",
     "output_type": "error",
     "traceback": [
      "\u001b[1;31m---------------------------------------------------------------------------\u001b[0m",
      "\u001b[1;31mNameError\u001b[0m                                 Traceback (most recent call last)",
      "Cell \u001b[1;32mIn[32], line 1\u001b[0m\n\u001b[1;32m----> 1\u001b[0m \u001b[38;5;28mprint\u001b[39m(\u001b[43mapple_qoute2\u001b[49m[\u001b[38;5;124m'\u001b[39m\u001b[38;5;124mClose\u001b[39m\u001b[38;5;124m'\u001b[39m])\n",
      "\u001b[1;31mNameError\u001b[0m: name 'apple_qoute2' is not defined"
     ]
    }
   ],
   "source": [
    "print(apple_qoute2['Close'])"
   ]
  },
 ],
 "metadata": {
  "kernelspec": {
   "display_name": "Python 3 (ipykernel)",
   "language": "python",
   "name": "python3"
  },
  "language_info": {
   "codemirror_mode": {
    "name": "ipython",
    "version": 3
   },
   "file_extension": ".py",
   "mimetype": "text/x-python",
   "name": "python",
   "nbconvert_exporter": "python",
   "pygments_lexer": "ipython3",
   "version": "3.11.9"
  }
 },
 "nbformat": 4,
 "nbformat_minor": 5
}
